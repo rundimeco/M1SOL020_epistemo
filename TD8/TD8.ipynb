{
 "cells": [
  {
   "cell_type": "code",
   "execution_count": null,
   "metadata": {
    "lines_to_next_cell": 1
   },
   "outputs": [],
   "source": [
    "import matplotlib.pyplot as plt\n",
    "import seaborn as sns"
   ]
  },
  {
   "cell_type": "code",
   "execution_count": null,
   "metadata": {
    "lines_to_next_cell": 1
   },
   "outputs": [],
   "source": [
    "def mc2dic(data2, etiquettes):\n",
    "  for i, etiq in enumerate(etiquettes):\n",
    "    dic.setdefault(etiq, {\"VP\":0, \"FP\":0, \"FN\":0})\n",
    "    dic[etiq][\"VP\"] = data2[i][i]\n",
    "    for j in range(len(etiquettes)):\n",
    "      if i!=j:\n",
    "        dic[etiq][\"FP\"] += data1[i][j]#le reste de la ligne : FP\n",
    "        dic[etiq][\"FN\"] += data1[j][i]#le reste de la colonne : FN\n",
    "  return dic"
   ]
  },
  {
   "cell_type": "code",
   "execution_count": null,
   "metadata": {
    "lines_to_next_cell": 1
   },
   "outputs": [],
   "source": [
    "def get_stats(dic, classes):\n",
    "  Bonnes_predictions = 0\n",
    "  Total_instances = 0\n",
    "  for etiq, stats in dic.items():\n",
    "    VP = stats[\"VP\"]\n",
    "    FP = stats[\"FP\"]\n",
    "    FN = stats[\"FN\"]\n",
    "    Bonnes_predictions+=VP\n",
    "    Total_instances+= FP+FN\n",
    "    #...\n",
    "  print(\"Exactitude (accuracy): %f\"%(Bonnes_predictions/Total_instances))"
   ]
  },
  {
   "cell_type": "code",
   "execution_count": null,
   "metadata": {},
   "outputs": [],
   "source": [
    "etiquettes = [\"A\", \"B\", \"C\", \"D\", \"E\"]"
   ]
  },
  {
   "cell_type": "code",
   "execution_count": null,
   "metadata": {},
   "outputs": [],
   "source": [
    "data1 = [\n",
    "     [1, 0, 2, 0, 0], \n",
    "     [1, 9, 4, 80, 0], \n",
    "     [20, 1, 28, 5, 0], \n",
    "     [0, 18, 0, 1, 0], \n",
    "     [1, 0, 0, 0, 59]\n",
    "     ]"
   ]
  },
  {
   "cell_type": "code",
   "execution_count": null,
   "metadata": {},
   "outputs": [],
   "source": [
    "dic = {}\n",
    "for i, etiq in enumerate(etiquettes):\n",
    "  dic.setdefault(etiq, {\"VP\":0, \"FP\":0, \"FN\":0})\n",
    "  dic[etiq][\"VP\"] = data1[i][i]\n",
    "  for j in range(len(etiquettes)):\n",
    "    if i!=j:\n",
    "      dic[etiq][\"FP\"] += data1[i][j]#le reste de la ligne : FP\n",
    "      dic[etiq][\"FN\"] += data1[j][i]#le reste de la colonne : FN"
   ]
  },
  {
   "cell_type": "code",
   "execution_count": null,
   "metadata": {},
   "outputs": [],
   "source": [
    "get_stats(dic, etiquettes)"
   ]
  },
  {
   "cell_type": "code",
   "execution_count": null,
   "metadata": {},
   "outputs": [],
   "source": [
    "fig, ax = plt.subplots(figsize=(10,10))\n",
    "sns.heatmap(data1, annot=True, xticklabels=etiquettes, yticklabels=etiquettes,cmap=plt.cm.Reds )\n",
    "plt.ylim([len(etiquettes), 0])"
   ]
  },
  {
   "cell_type": "code",
   "execution_count": null,
   "metadata": {},
   "outputs": [],
   "source": [
    "#plt.show()\n",
    "plt.savefig(\"matrice1.png\")"
   ]
  },
  {
   "cell_type": "code",
   "execution_count": null,
   "metadata": {},
   "outputs": [],
   "source": [
    "data2 = [ \n",
    "\t[5, 0, 0, 584, 1],\n",
    "\t[0, 4, 0, 84, 0],\n",
    "\t[1, 0, 8, 12, 2],\n",
    "\t[0, 0, 0, 42, 0],\n",
    "\t[0, 0, 0, 168, 8]\n",
    "      ]"
   ]
  },
  {
   "cell_type": "code",
   "execution_count": null,
   "metadata": {},
   "outputs": [],
   "source": [
    "dic = mc2dic(data2, etiquettes)\n",
    "get_stats(dic, etiquettes)"
   ]
  },
  {
   "cell_type": "code",
   "execution_count": null,
   "metadata": {},
   "outputs": [],
   "source": [
    "fig, ax = plt.subplots(figsize=(10,10))\n",
    "sns.heatmap(data2, annot=True, xticklabels=etiquettes, yticklabels=etiquettes,cmap=plt.cm.Reds )\n",
    "plt.ylim([len(etiquettes), 0])"
   ]
  },
  {
   "cell_type": "code",
   "execution_count": null,
   "metadata": {},
   "outputs": [],
   "source": [
    "#plt.show()\n",
    "plt.savefig(\"matrice2.png\")"
   ]
  }
 ],
 "metadata": {
  "jupytext": {
   "cell_metadata_filter": "-all",
   "main_language": "python",
   "notebook_metadata_filter": "-all"
  }
 },
 "nbformat": 4,
 "nbformat_minor": 2
}
