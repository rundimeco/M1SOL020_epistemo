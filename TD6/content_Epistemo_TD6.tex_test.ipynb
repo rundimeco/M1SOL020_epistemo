{
 "cells": [
  {
   "cell_type": "code",
   "execution_count": 2,
   "metadata": {},
   "outputs": [
    {
     "name": "stdout",
     "output_type": "stream",
     "text": [
      "coucou\n",
      "2\n",
      "coucou\n",
      "3\n",
      "coucou\n",
      "4\n",
      "coucou\n",
      "5\n",
      "coucou\n",
      "6\n",
      "coucou\n",
      "7\n",
      "coucou\n",
      "8\n",
      "Fin\n"
     ]
    }
   ],
   "source": [
    "i = 2\n",
    "while i<=8:\n",
    "  print(\"coucou\")\n",
    "  print(i)\n",
    "  i+=1\n",
    "print(\"Fin\")\n"
   ]
  },
  {
   "cell_type": "code",
   "execution_count": 3,
   "metadata": {},
   "outputs": [
    {
     "name": "stdout",
     "output_type": "stream",
     "text": [
      "coucou\n",
      "2\n",
      "coucou\n",
      "3\n",
      "coucou\n",
      "4\n",
      "coucou\n",
      "5\n",
      "coucou\n",
      "6\n",
      "coucou\n",
      "7\n",
      "coucou\n",
      "8\n",
      "Fin\n"
     ]
    }
   ],
   "source": [
    "for i in range(2, 9):\n",
    "  print(\"coucou\")\n",
    "  print(i)\n",
    "  i+=1\n",
    "print(\"Fin\")"
   ]
  },
  {
   "cell_type": "code",
   "execution_count": 4,
   "metadata": {},
   "outputs": [
    {
     "name": "stdout",
     "output_type": "stream",
     "text": [
      "coucou\n",
      "coucou\n",
      "coucou\n",
      "coucou\n",
      "coucou\n",
      "coucou\n",
      "Fin\n"
     ]
    }
   ],
   "source": [
    "i = 5\n",
    "encore = True\n",
    "while encore == True:\n",
    "  print(\"coucou\")\n",
    "  i+=1\n",
    "  if i>10:\n",
    "    encore = False\n",
    "print(\"Fin\")"
   ]
  },
  {
   "cell_type": "code",
   "execution_count": 5,
   "metadata": {},
   "outputs": [
    {
     "name": "stdout",
     "output_type": "stream",
     "text": [
      "c'est vrai\n"
     ]
    }
   ],
   "source": [
    "if True:\n",
    "  print(\"c'est vrai\")\n",
    "if False:\n",
    "  print(\"c'est faux\")"
   ]
  },
  {
   "cell_type": "code",
   "execution_count": 1,
   "metadata": {},
   "outputs": [
    {
     "name": "stdout",
     "output_type": "stream",
     "text": [
      "c'est vrai\n"
     ]
    },
    {
     "ename": "ZeroDivisionError",
     "evalue": "division by zero",
     "output_type": "error",
     "traceback": [
      "\u001b[0;31m---------------------------------------------------------------------------\u001b[0m",
      "\u001b[0;31mZeroDivisionError\u001b[0m                         Traceback (most recent call last)",
      "\u001b[0;32m<ipython-input-1-b46bdb775222>\u001b[0m in \u001b[0;36m<module>\u001b[0;34m\u001b[0m\n\u001b[1;32m      1\u001b[0m \u001b[0;32mwhile\u001b[0m \u001b[0;32mTrue\u001b[0m\u001b[0;34m:\u001b[0m\u001b[0;31m#Attention\u001b[0m\u001b[0;34m\u001b[0m\u001b[0;34m\u001b[0m\u001b[0m\n\u001b[1;32m      2\u001b[0m   \u001b[0mprint\u001b[0m\u001b[0;34m(\u001b[0m\u001b[0;34m\"c'est vrai\"\u001b[0m\u001b[0;34m)\u001b[0m\u001b[0;34m\u001b[0m\u001b[0;34m\u001b[0m\u001b[0m\n\u001b[0;32m----> 3\u001b[0;31m   \u001b[0;36m1\u001b[0m\u001b[0;34m/\u001b[0m\u001b[0;36m0\u001b[0m\u001b[0;34m\u001b[0m\u001b[0;34m\u001b[0m\u001b[0m\n\u001b[0m",
      "\u001b[0;31mZeroDivisionError\u001b[0m: division by zero"
     ]
    }
   ],
   "source": [
    "while True:#Attention\n",
    "  print(\"c'est vrai\")\n",
    "  1/0"
   ]
  },
  {
   "cell_type": "code",
   "execution_count": 8,
   "metadata": {},
   "outputs": [
    {
     "name": "stdout",
     "output_type": "stream",
     "text": [
      "bonsoir\n"
     ]
    }
   ],
   "source": [
    "A = True\n",
    "B = False\n",
    "if A and B:\n",
    "  print(\"bonjour\")\n",
    "if A or B:\n",
    "  print(\"bonsoir\")"
   ]
  },
  {
   "cell_type": "code",
   "execution_count": 9,
   "metadata": {},
   "outputs": [
    {
     "name": "stdout",
     "output_type": "stream",
     "text": [
      "bonjour\n",
      "bonjour\n",
      "bonjour\n",
      "bonjour\n",
      "bonjour\n",
      "bonjour\n",
      "bonjour\n",
      "bonjour\n",
      "bonjour\n",
      "bonjour\n",
      "bonjour\n",
      "bonjour\n"
     ]
    }
   ],
   "source": [
    "A = True\n",
    "B = False\n",
    "i = 0\n",
    "while A or B:\n",
    "  print(\"bonjour\")\n",
    "  if i>10 and i<20:\n",
    "    A = False\n",
    "  i+=1 \n"
   ]
  },
  {
   "cell_type": "code",
   "execution_count": 2,
   "metadata": {},
   "outputs": [
    {
     "name": "stdout",
     "output_type": "stream",
     "text": [
      "bonjour\n"
     ]
    },
    {
     "ename": "ZeroDivisionError",
     "evalue": "division by zero",
     "output_type": "error",
     "traceback": [
      "\u001b[0;31m---------------------------------------------------------------------------\u001b[0m",
      "\u001b[0;31mZeroDivisionError\u001b[0m                         Traceback (most recent call last)",
      "\u001b[0;32m<ipython-input-2-2cf6a25beefe>\u001b[0m in \u001b[0;36m<module>\u001b[0;34m\u001b[0m\n\u001b[1;32m      5\u001b[0m   \u001b[0mprint\u001b[0m\u001b[0;34m(\u001b[0m\u001b[0;34m\"bonjour\"\u001b[0m\u001b[0;34m)\u001b[0m\u001b[0;34m\u001b[0m\u001b[0;34m\u001b[0m\u001b[0m\n\u001b[1;32m      6\u001b[0m   \u001b[0mA\u001b[0m \u001b[0;34m=\u001b[0m \u001b[0;32mFalse\u001b[0m\u001b[0;34m\u001b[0m\u001b[0;34m\u001b[0m\u001b[0m\n\u001b[0;32m----> 7\u001b[0;31m   \u001b[0;36m1\u001b[0m\u001b[0;34m/\u001b[0m\u001b[0;36m0\u001b[0m\u001b[0;34m\u001b[0m\u001b[0;34m\u001b[0m\u001b[0m\n\u001b[0m",
      "\u001b[0;31mZeroDivisionError\u001b[0m: division by zero"
     ]
    }
   ],
   "source": [
    "A = True\n",
    "B = True\n",
    "i = 0\n",
    "while A or B:\n",
    "  print(\"bonjour\")\n",
    "  A = False\n",
    "  1/0\n"
   ]
  },
  {
   "cell_type": "code",
   "execution_count": 11,
   "metadata": {},
   "outputs": [],
   "source": [
    "A = True\n",
    "B = True\n",
    "i = 0\n",
    "while A ^ B:\n",
    "  print(\"bonjour\")\n",
    "  A = False"
   ]
  },
  {
   "cell_type": "code",
   "execution_count": null,
   "metadata": {},
   "outputs": [],
   "source": []
  }
 ],
 "metadata": {
  "jupytext": {
   "cell_metadata_filter": "-all",
   "main_language": "python",
   "notebook_metadata_filter": "-all"
  },
  "kernelspec": {
   "display_name": "Python 3",
   "language": "python",
   "name": "python3"
  },
  "language_info": {
   "codemirror_mode": {
    "name": "ipython",
    "version": 3
   },
   "file_extension": ".py",
   "mimetype": "text/x-python",
   "name": "python",
   "nbconvert_exporter": "python",
   "pygments_lexer": "ipython3",
   "version": "3.7.5"
  }
 },
 "nbformat": 4,
 "nbformat_minor": 2
}
